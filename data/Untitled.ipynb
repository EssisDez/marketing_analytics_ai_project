{
 "cells": [
  {
   "cell_type": "code",
   "execution_count": null,
   "id": "a9e52f90-a804-4290-bf96-b0d2c300a376",
   "metadata": {},
   "outputs": [],
   "source": [
    "\n",
    "\n",
    "\n",
    "\n",
    "# Remove any extra spaces in column names\n",
    "data.columns = data.columns.str.strip()\n",
    "\n",
    "# Clean text columns\n",
    "for col in data.select_dtypes(include='object').columns:\n",
    "    data[col] = data[col].str.strip()\n",
    "\n",
    "from dateutil import parser\n",
    "\n",
    "def parse_date(x):\n",
    "    try:\n",
    "        return parser.parse(x, dayfirst=True)\n",
    "    except:\n",
    "        return pd.NaT\n",
    "\n",
    "data['InvoiceDate'] = data['InvoiceDate'].apply(parse_date)\n",
    "\n",
    "# Check how many dates are invalid\n",
    "print(\"Number of invalid dates:\", data['InvoiceDate'].isna().sum())\n",
    "\n",
    "#################### cleaning\n",
    "\n",
    "#Remove rows with missing CustomerID   Why:\n",
    "#Customer segmentation requires CustomerID to identify each customer.\n",
    "\n",
    "data = data.dropna(subset=['CustomerID'])\n",
    "\n",
    "#Remove rows with negative or zero quantities\n",
    "data = data[data['Quantity'] > 0]\n",
    "\n",
    "#Add a TotalPrice column   Why:\n",
    "# This column will be used to measure total sales per transaction, customer, or product.\n",
    "data['TotalPrice'] = data['Quantity'] * data['UnitPrice']\n",
    "\n",
    "#After dropping rows, it’s good to reset the index\n",
    "data.reset_index(drop=True, inplace=True)\n",
    "\n",
    "\n",
    "print(data.head())\n",
    "print(data.info())\n",
    "\n",
    "\n"
   ]
  }
 ],
 "metadata": {
  "kernelspec": {
   "display_name": "Python [conda env:base] *",
   "language": "python",
   "name": "conda-base-py"
  },
  "language_info": {
   "codemirror_mode": {
    "name": "ipython",
    "version": 3
   },
   "file_extension": ".py",
   "mimetype": "text/x-python",
   "name": "python",
   "nbconvert_exporter": "python",
   "pygments_lexer": "ipython3",
   "version": "3.13.5"
  }
 },
 "nbformat": 4,
 "nbformat_minor": 5
}
