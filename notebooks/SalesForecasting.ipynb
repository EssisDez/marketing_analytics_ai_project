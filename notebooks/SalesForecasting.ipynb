{
 "cells": [
  {
   "cell_type": "markdown",
   "id": "3a8aa647-9276-43ef-bb13-db75dfdab3fa",
   "metadata": {},
   "source": [
    "## SalesForecasting\n",
    "\n",
    "for predicting future sales using AI/ML (time series forecasting)."
   ]
  },
  {
   "cell_type": "markdown",
   "id": "6b7cfe3d-31d7-4ef0-8534-440b00746fa3",
   "metadata": {},
   "source": [
    "## Imports"
   ]
  },
  {
   "cell_type": "code",
   "execution_count": 1,
   "id": "c52c24a9-55bd-4c2b-a29f-167b593ca6db",
   "metadata": {},
   "outputs": [
    {
     "ename": "ModuleNotFoundError",
     "evalue": "No module named 'prophet'",
     "output_type": "error",
     "traceback": [
      "\u001b[1;31m---------------------------------------------------------------------------\u001b[0m",
      "\u001b[1;31mModuleNotFoundError\u001b[0m                       Traceback (most recent call last)",
      "Cell \u001b[1;32mIn[1], line 3\u001b[0m\n\u001b[0;32m      1\u001b[0m \u001b[38;5;28;01mimport\u001b[39;00m\u001b[38;5;250m \u001b[39m\u001b[38;5;21;01mpandas\u001b[39;00m\u001b[38;5;250m \u001b[39m\u001b[38;5;28;01mas\u001b[39;00m\u001b[38;5;250m \u001b[39m\u001b[38;5;21;01mpd\u001b[39;00m\n\u001b[0;32m      2\u001b[0m \u001b[38;5;28;01mimport\u001b[39;00m\u001b[38;5;250m \u001b[39m\u001b[38;5;21;01mmatplotlib\u001b[39;00m\u001b[38;5;21;01m.\u001b[39;00m\u001b[38;5;21;01mpyplot\u001b[39;00m\u001b[38;5;250m \u001b[39m\u001b[38;5;28;01mas\u001b[39;00m\u001b[38;5;250m \u001b[39m\u001b[38;5;21;01mplt\u001b[39;00m\n\u001b[1;32m----> 3\u001b[0m \u001b[38;5;28;01mfrom\u001b[39;00m\u001b[38;5;250m \u001b[39m\u001b[38;5;21;01mprophet\u001b[39;00m\u001b[38;5;250m \u001b[39m\u001b[38;5;28;01mimport\u001b[39;00m Prophet  \u001b[38;5;66;03m# Facebook Prophet for forecasting\u001b[39;00m\n\u001b[0;32m      5\u001b[0m get_ipython()\u001b[38;5;241m.\u001b[39mrun_line_magic(\u001b[38;5;124m'\u001b[39m\u001b[38;5;124mmatplotlib\u001b[39m\u001b[38;5;124m'\u001b[39m, \u001b[38;5;124m'\u001b[39m\u001b[38;5;124minline\u001b[39m\u001b[38;5;124m'\u001b[39m)\n",
      "\u001b[1;31mModuleNotFoundError\u001b[0m: No module named 'prophet'"
     ]
    }
   ],
   "source": [
    "import pandas as pd\n",
    "import matplotlib.pyplot as plt\n",
    "from prophet import Prophet  # Facebook Prophet for forecasting\n",
    "\n",
    "%matplotlib inline\n"
   ]
  },
  {
   "cell_type": "code",
   "execution_count": 2,
   "id": "66d13c77-c1cd-4701-b8e8-53937d360471",
   "metadata": {},
   "outputs": [
    {
     "name": "stdout",
     "output_type": "stream",
     "text": [
      "Collecting prophet\n",
      "  Downloading prophet-1.1.7-py3-none-win_amd64.whl.metadata (3.6 kB)\n",
      "Collecting cmdstanpy>=1.0.4 (from prophet)\n",
      "  Downloading cmdstanpy-1.2.5-py3-none-any.whl.metadata (4.0 kB)\n",
      "Requirement already satisfied: numpy>=1.15.4 in c:\\users\\user\\anaconda3\\lib\\site-packages (from prophet) (2.1.3)\n",
      "Requirement already satisfied: matplotlib>=2.0.0 in c:\\users\\user\\anaconda3\\lib\\site-packages (from prophet) (3.10.0)\n",
      "Requirement already satisfied: pandas>=1.0.4 in c:\\users\\user\\anaconda3\\lib\\site-packages (from prophet) (2.2.3)\n",
      "Collecting holidays<1,>=0.25 (from prophet)\n",
      "  Downloading holidays-0.80-py3-none-any.whl.metadata (48 kB)\n",
      "Requirement already satisfied: tqdm>=4.36.1 in c:\\users\\user\\anaconda3\\lib\\site-packages (from prophet) (4.67.1)\n",
      "Collecting importlib_resources (from prophet)\n",
      "  Downloading importlib_resources-6.5.2-py3-none-any.whl.metadata (3.9 kB)\n",
      "Requirement already satisfied: python-dateutil in c:\\users\\user\\anaconda3\\lib\\site-packages (from holidays<1,>=0.25->prophet) (2.9.0.post0)\n",
      "Collecting stanio<2.0.0,>=0.4.0 (from cmdstanpy>=1.0.4->prophet)\n",
      "  Downloading stanio-0.5.1-py3-none-any.whl.metadata (1.6 kB)\n",
      "Requirement already satisfied: contourpy>=1.0.1 in c:\\users\\user\\anaconda3\\lib\\site-packages (from matplotlib>=2.0.0->prophet) (1.3.1)\n",
      "Requirement already satisfied: cycler>=0.10 in c:\\users\\user\\anaconda3\\lib\\site-packages (from matplotlib>=2.0.0->prophet) (0.11.0)\n",
      "Requirement already satisfied: fonttools>=4.22.0 in c:\\users\\user\\anaconda3\\lib\\site-packages (from matplotlib>=2.0.0->prophet) (4.55.3)\n",
      "Requirement already satisfied: kiwisolver>=1.3.1 in c:\\users\\user\\anaconda3\\lib\\site-packages (from matplotlib>=2.0.0->prophet) (1.4.8)\n",
      "Requirement already satisfied: packaging>=20.0 in c:\\users\\user\\anaconda3\\lib\\site-packages (from matplotlib>=2.0.0->prophet) (24.2)\n",
      "Requirement already satisfied: pillow>=8 in c:\\users\\user\\anaconda3\\lib\\site-packages (from matplotlib>=2.0.0->prophet) (11.1.0)\n",
      "Requirement already satisfied: pyparsing>=2.3.1 in c:\\users\\user\\anaconda3\\lib\\site-packages (from matplotlib>=2.0.0->prophet) (3.2.0)\n",
      "Requirement already satisfied: pytz>=2020.1 in c:\\users\\user\\anaconda3\\lib\\site-packages (from pandas>=1.0.4->prophet) (2024.1)\n",
      "Requirement already satisfied: tzdata>=2022.7 in c:\\users\\user\\anaconda3\\lib\\site-packages (from pandas>=1.0.4->prophet) (2025.2)\n",
      "Requirement already satisfied: six>=1.5 in c:\\users\\user\\anaconda3\\lib\\site-packages (from python-dateutil->holidays<1,>=0.25->prophet) (1.17.0)\n",
      "Requirement already satisfied: colorama in c:\\users\\user\\anaconda3\\lib\\site-packages (from tqdm>=4.36.1->prophet) (0.4.6)\n",
      "Downloading prophet-1.1.7-py3-none-win_amd64.whl (13.3 MB)\n",
      "   ---------------------------------------- 0.0/13.3 MB ? eta -:--:--\n",
      "   --- ------------------------------------ 1.3/13.3 MB 6.8 MB/s eta 0:00:02\n",
      "   ------- -------------------------------- 2.6/13.3 MB 7.0 MB/s eta 0:00:02\n",
      "   ------------ --------------------------- 4.2/13.3 MB 7.2 MB/s eta 0:00:02\n",
      "   ----------------- ---------------------- 5.8/13.3 MB 7.2 MB/s eta 0:00:02\n",
      "   ----------------------- ---------------- 7.9/13.3 MB 7.5 MB/s eta 0:00:01\n",
      "   ---------------------------- ----------- 9.4/13.3 MB 7.6 MB/s eta 0:00:01\n",
      "   --------------------------------- ------ 11.3/13.3 MB 7.8 MB/s eta 0:00:01\n",
      "   ---------------------------------------  13.1/13.3 MB 8.0 MB/s eta 0:00:01\n",
      "   ---------------------------------------- 13.3/13.3 MB 7.6 MB/s eta 0:00:00\n",
      "Downloading holidays-0.80-py3-none-any.whl (1.3 MB)\n",
      "   ---------------------------------------- 0.0/1.3 MB ? eta -:--:--\n",
      "   ---------------------------------------- 1.3/1.3 MB 8.8 MB/s eta 0:00:00\n",
      "Downloading cmdstanpy-1.2.5-py3-none-any.whl (94 kB)\n",
      "Downloading stanio-0.5.1-py3-none-any.whl (8.1 kB)\n",
      "Downloading importlib_resources-6.5.2-py3-none-any.whl (37 kB)\n",
      "Installing collected packages: stanio, importlib_resources, holidays, cmdstanpy, prophet\n",
      "\n",
      "   ---------------- ----------------------- 2/5 [holidays]\n",
      "   ---------------- ----------------------- 2/5 [holidays]\n",
      "   ---------------- ----------------------- 2/5 [holidays]\n",
      "   ---------------- ----------------------- 2/5 [holidays]\n",
      "   ---------------- ----------------------- 2/5 [holidays]\n",
      "   ---------------- ----------------------- 2/5 [holidays]\n",
      "   ---------------- ----------------------- 2/5 [holidays]\n",
      "   ---------------- ----------------------- 2/5 [holidays]\n",
      "   ---------------- ----------------------- 2/5 [holidays]\n",
      "   ---------------- ----------------------- 2/5 [holidays]\n",
      "   ---------------- ----------------------- 2/5 [holidays]\n",
      "   ---------------- ----------------------- 2/5 [holidays]\n",
      "   ---------------- ----------------------- 2/5 [holidays]\n",
      "   ---------------- ----------------------- 2/5 [holidays]\n",
      "   ------------------------ --------------- 3/5 [cmdstanpy]\n",
      "   -------------------------------- ------- 4/5 [prophet]\n",
      "   -------------------------------- ------- 4/5 [prophet]\n",
      "   -------------------------------- ------- 4/5 [prophet]\n",
      "   -------------------------------- ------- 4/5 [prophet]\n",
      "   -------------------------------- ------- 4/5 [prophet]\n",
      "   -------------------------------- ------- 4/5 [prophet]\n",
      "   -------------------------------- ------- 4/5 [prophet]\n",
      "   -------------------------------- ------- 4/5 [prophet]\n",
      "   ---------------------------------------- 5/5 [prophet]\n",
      "\n",
      "Successfully installed cmdstanpy-1.2.5 holidays-0.80 importlib_resources-6.5.2 prophet-1.1.7 stanio-0.5.1\n"
     ]
    }
   ],
   "source": [
    "!pip install prophet\n"
   ]
  },
  {
   "cell_type": "code",
   "execution_count": null,
   "id": "7bea39a7-6463-4c33-b555-ed563e6c4db9",
   "metadata": {},
   "outputs": [],
   "source": []
  }
 ],
 "metadata": {
  "kernelspec": {
   "display_name": "Python [conda env:base] *",
   "language": "python",
   "name": "conda-base-py"
  },
  "language_info": {
   "codemirror_mode": {
    "name": "ipython",
    "version": 3
   },
   "file_extension": ".py",
   "mimetype": "text/x-python",
   "name": "python",
   "nbconvert_exporter": "python",
   "pygments_lexer": "ipython3",
   "version": "3.13.5"
  }
 },
 "nbformat": 4,
 "nbformat_minor": 5
}
